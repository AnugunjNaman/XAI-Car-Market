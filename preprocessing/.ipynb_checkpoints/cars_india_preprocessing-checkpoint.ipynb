{
 "cells": [
  {
   "cell_type": "code",
   "execution_count": 77,
   "id": "b175f1ec",
   "metadata": {},
   "outputs": [],
   "source": [
    "import pandas as pd\n",
    "from sklearn.preprocessing import LabelEncoder"
   ]
  },
  {
   "cell_type": "code",
   "execution_count": 78,
   "id": "be612358",
   "metadata": {},
   "outputs": [],
   "source": [
    "df = pd.read_csv('../Raw Data/cars_india.csv')"
   ]
  },
  {
   "cell_type": "markdown",
   "id": "0b2af0de",
   "metadata": {},
   "source": [
    "## Data Cleaning"
   ]
  },
  {
   "cell_type": "code",
   "execution_count": 79,
   "id": "097ad0a2",
   "metadata": {},
   "outputs": [],
   "source": [
    "# Drop all rows that have NaN/missing values\n",
    "df.dropna(inplace=True)"
   ]
  },
  {
   "cell_type": "code",
   "execution_count": 80,
   "id": "3f48630d",
   "metadata": {},
   "outputs": [],
   "source": [
    "# Convert the price of the cars from Rupees to USD\n",
    "df['Price'] = df['Price'] * 0.012"
   ]
  },
  {
   "cell_type": "code",
   "execution_count": 81,
   "id": "14789bdc",
   "metadata": {},
   "outputs": [],
   "source": [
    "# Convert the odometer reading from km to miles\n",
    "df['Kilometer'] = df['Kilometer'] * 0.621"
   ]
  },
  {
   "cell_type": "code",
   "execution_count": 82,
   "id": "ce606740",
   "metadata": {},
   "outputs": [],
   "source": [
    "# Remove the 'cc' at the end of every engine displacement number\n",
    "# And convert it from cubic centimeters to liters\n",
    "df['Engine'] = df['Engine'].map(lambda i: str(i).rstrip(' cc'))\n",
    "df['Engine'] = pd.to_numeric(df['Engine'])\n",
    "df['Engine'] = df['Engine'] * 0.001"
   ]
  },
  {
   "cell_type": "code",
   "execution_count": 83,
   "id": "7ffc2566",
   "metadata": {},
   "outputs": [],
   "source": [
    "# Split the 'Max Power' column into 2 columns (Horsepower and torque)\n",
    "# And drop the original 'Max Power' column\n",
    "df[['Horsepower', 'HP RPM']] = df['Max Power'].str.split('@', expand=True)\n",
    "df.drop('Max Power', inplace=True, axis=1)"
   ]
  },
  {
   "cell_type": "code",
   "execution_count": 84,
   "id": "6b9d1402",
   "metadata": {},
   "outputs": [],
   "source": [
    "# Drop the ' bhp' and ' rpm' from the two new columns\n",
    "df['Horsepower'] = df['Horsepower'].map(lambda i: str(i).rstrip(' bhp'))\n",
    "df['HP RPM'] = df['HP RPM'].map(lambda i: str(i).rstrip(' rpm'))"
   ]
  },
  {
   "cell_type": "code",
   "execution_count": 85,
   "id": "e8fd9ef8",
   "metadata": {
    "scrolled": false
   },
   "outputs": [],
   "source": [
    "# Do the exact same thing for the 'Max Torque' column\n",
    "df[['Torque', 'Torque RPM']] = df['Max Torque'].str.split('@', expand=True)\n",
    "df.drop('Max Torque', inplace=True, axis=1)\n",
    "\n",
    "df['Torque'] = df['Torque'].map(lambda i: str(i).rstrip(' Nm'))\n",
    "df['Torque RPM'] = df['Torque RPM'].map(lambda i: str(i).rstrip(' rpm'))"
   ]
  },
  {
   "cell_type": "code",
   "execution_count": 86,
   "id": "3aedc440",
   "metadata": {},
   "outputs": [],
   "source": [
    "df = df.drop(columns=['Model'])"
   ]
  },
  {
   "cell_type": "code",
   "execution_count": 87,
   "id": "ca74b86f",
   "metadata": {},
   "outputs": [],
   "source": [
    "labels = ['very low', 'low', 'medium', 'high', 'very high']\n",
    "boundaries = [0, 10000, 20000, 30000, 40000, 1000000]\n",
    "df['Price'] = pd.cut(df['Price'], bins=boundaries, labels=labels, include_lowest=True)"
   ]
  },
  {
   "cell_type": "markdown",
   "id": "70286203",
   "metadata": {},
   "source": [
    "## Label Encoding of non-numeric columns"
   ]
  },
  {
   "cell_type": "code",
   "execution_count": 88,
   "id": "3c0120b5",
   "metadata": {},
   "outputs": [],
   "source": [
    "label_encodings_file = open(\"../Clean Data/india_label_encodings.txt\", \"w\")"
   ]
  },
  {
   "cell_type": "code",
   "execution_count": 89,
   "id": "b9697717",
   "metadata": {},
   "outputs": [
    {
     "data": {
      "text/plain": [
       "456"
      ]
     },
     "execution_count": 89,
     "metadata": {},
     "output_type": "execute_result"
    }
   ],
   "source": [
    "le = LabelEncoder()\n",
    "le.fit(df['Make'])\n",
    "le_make_mapping = dict(zip(le.classes_, le.transform(le.classes_)))\n",
    "df['Make'] = le.transform(df['Make'])\n",
    "\n",
    "label_encodings_file.write(\"Make: \\n\")\n",
    "label_encodings_file.write(str(le_make_mapping))"
   ]
  },
  {
   "cell_type": "code",
   "execution_count": 90,
   "id": "8138cea5",
   "metadata": {},
   "outputs": [
    {
     "data": {
      "text/plain": [
       "94"
      ]
     },
     "execution_count": 90,
     "metadata": {},
     "output_type": "execute_result"
    }
   ],
   "source": [
    "le = LabelEncoder()\n",
    "le.fit(df['Fuel Type'])\n",
    "le_make_mapping = dict(zip(le.classes_, le.transform(le.classes_)))\n",
    "df['Fuel Type'] = le.transform(df['Fuel Type'])\n",
    "\n",
    "label_encodings_file.write(\"\\n\\nFuel Type: \\n\")\n",
    "label_encodings_file.write(str(le_make_mapping))"
   ]
  },
  {
   "cell_type": "code",
   "execution_count": 91,
   "id": "ca50b712",
   "metadata": {},
   "outputs": [
    {
     "data": {
      "text/plain": [
       "1160"
      ]
     },
     "execution_count": 91,
     "metadata": {},
     "output_type": "execute_result"
    }
   ],
   "source": [
    "le = LabelEncoder()\n",
    "le.fit(df['Location'])\n",
    "le_make_mapping = dict(zip(le.classes_, le.transform(le.classes_)))\n",
    "df['Location'] = le.transform(df['Location'])\n",
    "\n",
    "label_encodings_file.write(\"\\n\\nLocation: \\n\")\n",
    "label_encodings_file.write(str(le_make_mapping))"
   ]
  },
  {
   "cell_type": "code",
   "execution_count": 92,
   "id": "fd1a8fb5",
   "metadata": {},
   "outputs": [
    {
     "data": {
      "text/plain": [
       "200"
      ]
     },
     "execution_count": 92,
     "metadata": {},
     "output_type": "execute_result"
    }
   ],
   "source": [
    "le = LabelEncoder()\n",
    "le.fit(df['Color'])\n",
    "le_make_mapping = dict(zip(le.classes_, le.transform(le.classes_)))\n",
    "df['Color'] = le.transform(df['Color'])\n",
    "\n",
    "label_encodings_file.write(\"\\n\\nColor: \\n\")\n",
    "label_encodings_file.write(str(le_make_mapping))"
   ]
  },
  {
   "cell_type": "code",
   "execution_count": 93,
   "id": "05544234",
   "metadata": {},
   "outputs": [
    {
     "data": {
      "text/plain": [
       "60"
      ]
     },
     "execution_count": 93,
     "metadata": {},
     "output_type": "execute_result"
    }
   ],
   "source": [
    "le = LabelEncoder()\n",
    "le.fit(df['Owner'])\n",
    "le_make_mapping = dict(zip(le.classes_, le.transform(le.classes_)))\n",
    "df['Owner'] = le.transform(df['Owner'])\n",
    "\n",
    "label_encodings_file.write(\"\\n\\nOwner: \\n\")\n",
    "label_encodings_file.write(str(le_make_mapping))"
   ]
  },
  {
   "cell_type": "code",
   "execution_count": 94,
   "id": "bd07c643",
   "metadata": {},
   "outputs": [
    {
     "data": {
      "text/plain": [
       "29"
      ]
     },
     "execution_count": 94,
     "metadata": {},
     "output_type": "execute_result"
    }
   ],
   "source": [
    "le = LabelEncoder()\n",
    "le.fit(df['Transmission'])\n",
    "le_make_mapping = dict(zip(le.classes_, le.transform(le.classes_)))\n",
    "df['Transmission'] = le.transform(df['Transmission'])\n",
    "\n",
    "label_encodings_file.write(\"\\n\\nTransmission: \\n\")\n",
    "label_encodings_file.write(str(le_make_mapping))"
   ]
  },
  {
   "cell_type": "code",
   "execution_count": 95,
   "id": "cd4174d0",
   "metadata": {},
   "outputs": [
    {
     "data": {
      "text/plain": [
       "30"
      ]
     },
     "execution_count": 95,
     "metadata": {},
     "output_type": "execute_result"
    }
   ],
   "source": [
    "le = LabelEncoder()\n",
    "le.fit(df['Drivetrain'])\n",
    "le_make_mapping = dict(zip(le.classes_, le.transform(le.classes_)))\n",
    "df['Drivetrain'] = le.transform(df['Drivetrain'])\n",
    "\n",
    "label_encodings_file.write(\"\\n\\nDrivetrain: \\n\")\n",
    "label_encodings_file.write(str(le_make_mapping))"
   ]
  },
  {
   "cell_type": "code",
   "execution_count": 96,
   "id": "2adf133f",
   "metadata": {},
   "outputs": [
    {
     "data": {
      "text/plain": [
       "63"
      ]
     },
     "execution_count": 96,
     "metadata": {},
     "output_type": "execute_result"
    }
   ],
   "source": [
    "le = LabelEncoder()\n",
    "le.fit(df['Seller Type'])\n",
    "le_make_mapping = dict(zip(le.classes_, le.transform(le.classes_)))\n",
    "df['Seller Type'] = le.transform(df['Seller Type'])\n",
    "\n",
    "label_encodings_file.write(\"\\n\\nSeller Type: \\n\")\n",
    "label_encodings_file.write(str(le_make_mapping))"
   ]
  },
  {
   "cell_type": "code",
   "execution_count": 98,
   "id": "46607a71",
   "metadata": {},
   "outputs": [
    {
     "data": {
      "text/plain": [
       "65"
      ]
     },
     "execution_count": 98,
     "metadata": {},
     "output_type": "execute_result"
    }
   ],
   "source": [
    "price_map = {'very low': 0, 'low': 1, 'medium': 2, 'high': 3, 'very high': 4}\n",
    "df['Price'] = df['Price'].map(price_map)\n",
    "\n",
    "label_encodings_file.write(\"\\n\\nPrice: \\n\")\n",
    "label_encodings_file.write(str(price_map))"
   ]
  },
  {
   "cell_type": "code",
   "execution_count": 99,
   "id": "d35cec90",
   "metadata": {},
   "outputs": [],
   "source": [
    "label_encodings_file.close()\n",
    "df.reset_index(drop=True, inplace=True)\n",
    "df.dropna(inplace=True)"
   ]
  },
  {
   "cell_type": "code",
   "execution_count": 100,
   "id": "379eb2d6",
   "metadata": {},
   "outputs": [],
   "source": [
    "# Convert all columns to numeric\n",
    "for column in df.columns:\n",
    "    df[column] = pd.to_numeric(df[column], errors='coerce')"
   ]
  },
  {
   "cell_type": "code",
   "execution_count": 101,
   "id": "d7b8542c",
   "metadata": {},
   "outputs": [],
   "source": [
    "df.dropna(inplace=True, how='any')"
   ]
  },
  {
   "cell_type": "code",
   "execution_count": 102,
   "id": "d5188bcd",
   "metadata": {},
   "outputs": [
    {
     "data": {
      "text/html": [
       "<div>\n",
       "<style scoped>\n",
       "    .dataframe tbody tr th:only-of-type {\n",
       "        vertical-align: middle;\n",
       "    }\n",
       "\n",
       "    .dataframe tbody tr th {\n",
       "        vertical-align: top;\n",
       "    }\n",
       "\n",
       "    .dataframe thead th {\n",
       "        text-align: right;\n",
       "    }\n",
       "</style>\n",
       "<table border=\"1\" class=\"dataframe\">\n",
       "  <thead>\n",
       "    <tr style=\"text-align: right;\">\n",
       "      <th></th>\n",
       "      <th>Make</th>\n",
       "      <th>Price</th>\n",
       "      <th>Year</th>\n",
       "      <th>Kilometer</th>\n",
       "      <th>Fuel Type</th>\n",
       "      <th>Transmission</th>\n",
       "      <th>Location</th>\n",
       "      <th>Color</th>\n",
       "      <th>Owner</th>\n",
       "      <th>Seller Type</th>\n",
       "      <th>...</th>\n",
       "      <th>Drivetrain</th>\n",
       "      <th>Length</th>\n",
       "      <th>Width</th>\n",
       "      <th>Height</th>\n",
       "      <th>Seating Capacity</th>\n",
       "      <th>Fuel Tank Capacity</th>\n",
       "      <th>Horsepower</th>\n",
       "      <th>HP RPM</th>\n",
       "      <th>Torque</th>\n",
       "      <th>Torque RPM</th>\n",
       "    </tr>\n",
       "  </thead>\n",
       "  <tbody>\n",
       "    <tr>\n",
       "      <th>0</th>\n",
       "      <td>7</td>\n",
       "      <td>0</td>\n",
       "      <td>2017</td>\n",
       "      <td>54120.150</td>\n",
       "      <td>5</td>\n",
       "      <td>1</td>\n",
       "      <td>56</td>\n",
       "      <td>7</td>\n",
       "      <td>0</td>\n",
       "      <td>1</td>\n",
       "      <td>...</td>\n",
       "      <td>1</td>\n",
       "      <td>3990.0</td>\n",
       "      <td>1680.0</td>\n",
       "      <td>1505.0</td>\n",
       "      <td>5.0</td>\n",
       "      <td>35.0</td>\n",
       "      <td>87.0</td>\n",
       "      <td>6000.0</td>\n",
       "      <td>109.0000</td>\n",
       "      <td>4500</td>\n",
       "    </tr>\n",
       "    <tr>\n",
       "      <th>1</th>\n",
       "      <td>18</td>\n",
       "      <td>0</td>\n",
       "      <td>2014</td>\n",
       "      <td>46575.000</td>\n",
       "      <td>2</td>\n",
       "      <td>1</td>\n",
       "      <td>40</td>\n",
       "      <td>14</td>\n",
       "      <td>1</td>\n",
       "      <td>2</td>\n",
       "      <td>...</td>\n",
       "      <td>1</td>\n",
       "      <td>3995.0</td>\n",
       "      <td>1695.0</td>\n",
       "      <td>1555.0</td>\n",
       "      <td>5.0</td>\n",
       "      <td>42.0</td>\n",
       "      <td>74.0</td>\n",
       "      <td>4000.0</td>\n",
       "      <td>190.0000</td>\n",
       "      <td>2000</td>\n",
       "    </tr>\n",
       "    <tr>\n",
       "      <th>2</th>\n",
       "      <td>8</td>\n",
       "      <td>0</td>\n",
       "      <td>2011</td>\n",
       "      <td>41607.000</td>\n",
       "      <td>5</td>\n",
       "      <td>1</td>\n",
       "      <td>39</td>\n",
       "      <td>8</td>\n",
       "      <td>0</td>\n",
       "      <td>2</td>\n",
       "      <td>...</td>\n",
       "      <td>1</td>\n",
       "      <td>3585.0</td>\n",
       "      <td>1595.0</td>\n",
       "      <td>1550.0</td>\n",
       "      <td>5.0</td>\n",
       "      <td>35.0</td>\n",
       "      <td>79.0</td>\n",
       "      <td>6000.0</td>\n",
       "      <td>112.7619</td>\n",
       "      <td>4000</td>\n",
       "    </tr>\n",
       "    <tr>\n",
       "      <th>3</th>\n",
       "      <td>29</td>\n",
       "      <td>0</td>\n",
       "      <td>2019</td>\n",
       "      <td>23287.500</td>\n",
       "      <td>5</td>\n",
       "      <td>1</td>\n",
       "      <td>41</td>\n",
       "      <td>12</td>\n",
       "      <td>0</td>\n",
       "      <td>2</td>\n",
       "      <td>...</td>\n",
       "      <td>1</td>\n",
       "      <td>3995.0</td>\n",
       "      <td>1745.0</td>\n",
       "      <td>1510.0</td>\n",
       "      <td>5.0</td>\n",
       "      <td>37.0</td>\n",
       "      <td>82.0</td>\n",
       "      <td>6000.0</td>\n",
       "      <td>113.0000</td>\n",
       "      <td>4200</td>\n",
       "    </tr>\n",
       "    <tr>\n",
       "      <th>4</th>\n",
       "      <td>29</td>\n",
       "      <td>2</td>\n",
       "      <td>2018</td>\n",
       "      <td>42849.000</td>\n",
       "      <td>2</td>\n",
       "      <td>1</td>\n",
       "      <td>45</td>\n",
       "      <td>7</td>\n",
       "      <td>0</td>\n",
       "      <td>2</td>\n",
       "      <td>...</td>\n",
       "      <td>2</td>\n",
       "      <td>4735.0</td>\n",
       "      <td>1830.0</td>\n",
       "      <td>1795.0</td>\n",
       "      <td>7.0</td>\n",
       "      <td>55.0</td>\n",
       "      <td>148.0</td>\n",
       "      <td>3400.0</td>\n",
       "      <td>343.0000</td>\n",
       "      <td>1400</td>\n",
       "    </tr>\n",
       "    <tr>\n",
       "      <th>...</th>\n",
       "      <td>...</td>\n",
       "      <td>...</td>\n",
       "      <td>...</td>\n",
       "      <td>...</td>\n",
       "      <td>...</td>\n",
       "      <td>...</td>\n",
       "      <td>...</td>\n",
       "      <td>...</td>\n",
       "      <td>...</td>\n",
       "      <td>...</td>\n",
       "      <td>...</td>\n",
       "      <td>...</td>\n",
       "      <td>...</td>\n",
       "      <td>...</td>\n",
       "      <td>...</td>\n",
       "      <td>...</td>\n",
       "      <td>...</td>\n",
       "      <td>...</td>\n",
       "      <td>...</td>\n",
       "      <td>...</td>\n",
       "      <td>...</td>\n",
       "    </tr>\n",
       "    <tr>\n",
       "      <th>1869</th>\n",
       "      <td>18</td>\n",
       "      <td>0</td>\n",
       "      <td>2014</td>\n",
       "      <td>49059.000</td>\n",
       "      <td>5</td>\n",
       "      <td>1</td>\n",
       "      <td>20</td>\n",
       "      <td>14</td>\n",
       "      <td>1</td>\n",
       "      <td>2</td>\n",
       "      <td>...</td>\n",
       "      <td>1</td>\n",
       "      <td>3775.0</td>\n",
       "      <td>1680.0</td>\n",
       "      <td>1620.0</td>\n",
       "      <td>5.0</td>\n",
       "      <td>43.0</td>\n",
       "      <td>85.0</td>\n",
       "      <td>6000.0</td>\n",
       "      <td>113.0000</td>\n",
       "      <td>4500</td>\n",
       "    </tr>\n",
       "    <tr>\n",
       "      <th>1870</th>\n",
       "      <td>17</td>\n",
       "      <td>1</td>\n",
       "      <td>2016</td>\n",
       "      <td>56076.300</td>\n",
       "      <td>2</td>\n",
       "      <td>1</td>\n",
       "      <td>66</td>\n",
       "      <td>14</td>\n",
       "      <td>0</td>\n",
       "      <td>2</td>\n",
       "      <td>...</td>\n",
       "      <td>1</td>\n",
       "      <td>4585.0</td>\n",
       "      <td>1890.0</td>\n",
       "      <td>1785.0</td>\n",
       "      <td>7.0</td>\n",
       "      <td>70.0</td>\n",
       "      <td>138.0</td>\n",
       "      <td>3750.0</td>\n",
       "      <td>330.0000</td>\n",
       "      <td>1600</td>\n",
       "    </tr>\n",
       "    <tr>\n",
       "      <th>1871</th>\n",
       "      <td>8</td>\n",
       "      <td>0</td>\n",
       "      <td>2014</td>\n",
       "      <td>51543.000</td>\n",
       "      <td>5</td>\n",
       "      <td>1</td>\n",
       "      <td>1</td>\n",
       "      <td>14</td>\n",
       "      <td>1</td>\n",
       "      <td>2</td>\n",
       "      <td>...</td>\n",
       "      <td>1</td>\n",
       "      <td>3495.0</td>\n",
       "      <td>1550.0</td>\n",
       "      <td>1500.0</td>\n",
       "      <td>5.0</td>\n",
       "      <td>32.0</td>\n",
       "      <td>55.0</td>\n",
       "      <td>5500.0</td>\n",
       "      <td>75.0000</td>\n",
       "      <td>4000</td>\n",
       "    </tr>\n",
       "    <tr>\n",
       "      <th>1872</th>\n",
       "      <td>6</td>\n",
       "      <td>0</td>\n",
       "      <td>2013</td>\n",
       "      <td>45333.000</td>\n",
       "      <td>5</td>\n",
       "      <td>1</td>\n",
       "      <td>67</td>\n",
       "      <td>13</td>\n",
       "      <td>0</td>\n",
       "      <td>2</td>\n",
       "      <td>...</td>\n",
       "      <td>1</td>\n",
       "      <td>3795.0</td>\n",
       "      <td>1680.0</td>\n",
       "      <td>1427.0</td>\n",
       "      <td>5.0</td>\n",
       "      <td>45.0</td>\n",
       "      <td>70.0</td>\n",
       "      <td>6250.0</td>\n",
       "      <td>102.0000</td>\n",
       "      <td>4000</td>\n",
       "    </tr>\n",
       "    <tr>\n",
       "      <th>1873</th>\n",
       "      <td>1</td>\n",
       "      <td>4</td>\n",
       "      <td>2018</td>\n",
       "      <td>37554.354</td>\n",
       "      <td>2</td>\n",
       "      <td>0</td>\n",
       "      <td>12</td>\n",
       "      <td>14</td>\n",
       "      <td>0</td>\n",
       "      <td>2</td>\n",
       "      <td>...</td>\n",
       "      <td>2</td>\n",
       "      <td>4936.0</td>\n",
       "      <td>1868.0</td>\n",
       "      <td>1479.0</td>\n",
       "      <td>5.0</td>\n",
       "      <td>65.0</td>\n",
       "      <td>188.0</td>\n",
       "      <td>4000.0</td>\n",
       "      <td>400.0000</td>\n",
       "      <td>1750</td>\n",
       "    </tr>\n",
       "  </tbody>\n",
       "</table>\n",
       "<p>1872 rows × 21 columns</p>\n",
       "</div>"
      ],
      "text/plain": [
       "      Make  Price  Year  Kilometer  Fuel Type  Transmission  Location  Color  \\\n",
       "0        7      0  2017  54120.150          5             1        56      7   \n",
       "1       18      0  2014  46575.000          2             1        40     14   \n",
       "2        8      0  2011  41607.000          5             1        39      8   \n",
       "3       29      0  2019  23287.500          5             1        41     12   \n",
       "4       29      2  2018  42849.000          2             1        45      7   \n",
       "...    ...    ...   ...        ...        ...           ...       ...    ...   \n",
       "1869    18      0  2014  49059.000          5             1        20     14   \n",
       "1870    17      1  2016  56076.300          2             1        66     14   \n",
       "1871     8      0  2014  51543.000          5             1         1     14   \n",
       "1872     6      0  2013  45333.000          5             1        67     13   \n",
       "1873     1      4  2018  37554.354          2             0        12     14   \n",
       "\n",
       "      Owner  Seller Type  ...  Drivetrain  Length   Width  Height  \\\n",
       "0         0            1  ...           1  3990.0  1680.0  1505.0   \n",
       "1         1            2  ...           1  3995.0  1695.0  1555.0   \n",
       "2         0            2  ...           1  3585.0  1595.0  1550.0   \n",
       "3         0            2  ...           1  3995.0  1745.0  1510.0   \n",
       "4         0            2  ...           2  4735.0  1830.0  1795.0   \n",
       "...     ...          ...  ...         ...     ...     ...     ...   \n",
       "1869      1            2  ...           1  3775.0  1680.0  1620.0   \n",
       "1870      0            2  ...           1  4585.0  1890.0  1785.0   \n",
       "1871      1            2  ...           1  3495.0  1550.0  1500.0   \n",
       "1872      0            2  ...           1  3795.0  1680.0  1427.0   \n",
       "1873      0            2  ...           2  4936.0  1868.0  1479.0   \n",
       "\n",
       "      Seating Capacity  Fuel Tank Capacity  Horsepower  HP RPM    Torque  \\\n",
       "0                  5.0                35.0        87.0  6000.0  109.0000   \n",
       "1                  5.0                42.0        74.0  4000.0  190.0000   \n",
       "2                  5.0                35.0        79.0  6000.0  112.7619   \n",
       "3                  5.0                37.0        82.0  6000.0  113.0000   \n",
       "4                  7.0                55.0       148.0  3400.0  343.0000   \n",
       "...                ...                 ...         ...     ...       ...   \n",
       "1869               5.0                43.0        85.0  6000.0  113.0000   \n",
       "1870               7.0                70.0       138.0  3750.0  330.0000   \n",
       "1871               5.0                32.0        55.0  5500.0   75.0000   \n",
       "1872               5.0                45.0        70.0  6250.0  102.0000   \n",
       "1873               5.0                65.0       188.0  4000.0  400.0000   \n",
       "\n",
       "      Torque RPM  \n",
       "0           4500  \n",
       "1           2000  \n",
       "2           4000  \n",
       "3           4200  \n",
       "4           1400  \n",
       "...          ...  \n",
       "1869        4500  \n",
       "1870        1600  \n",
       "1871        4000  \n",
       "1872        4000  \n",
       "1873        1750  \n",
       "\n",
       "[1872 rows x 21 columns]"
      ]
     },
     "execution_count": 102,
     "metadata": {},
     "output_type": "execute_result"
    }
   ],
   "source": [
    "df"
   ]
  },
  {
   "cell_type": "code",
   "execution_count": 103,
   "id": "ffd1afe5",
   "metadata": {},
   "outputs": [],
   "source": [
    "df.to_csv('../Clean Data/cars_india_clean.csv', index=False)"
   ]
  }
 ],
 "metadata": {
  "kernelspec": {
   "display_name": "Python 3",
   "language": "python",
   "name": "python3"
  },
  "language_info": {
   "codemirror_mode": {
    "name": "ipython",
    "version": 3
   },
   "file_extension": ".py",
   "mimetype": "text/x-python",
   "name": "python",
   "nbconvert_exporter": "python",
   "pygments_lexer": "ipython3",
   "version": "3.7.6"
  }
 },
 "nbformat": 4,
 "nbformat_minor": 5
}
